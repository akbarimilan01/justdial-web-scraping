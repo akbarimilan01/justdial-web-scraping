{
  "nbformat": 4,
  "nbformat_minor": 0,
  "metadata": {
    "colab": {
      "provenance": []
    },
    "kernelspec": {
      "name": "python3",
      "display_name": "Python 3"
    },
    "language_info": {
      "name": "python"
    }
  },
  "cells": [
    {
      "cell_type": "code",
      "source": [
        "import requests\n",
        "from bs4 import BeautifulSoup as bs\n",
        "from urllib.request import urlopen as uReq\n",
        "import logging"
      ],
      "metadata": {
        "id": "WzwIliYrgtM7"
      },
      "execution_count": 32,
      "outputs": []
    },
    {
      "cell_type": "code",
      "source": [
        "justdial_url = \"https://www.justdial.com/Gandhinagar-Gujarat/Accounting-Services/nct-10004639\""
      ],
      "metadata": {
        "id": "23_bquVcjqSF"
      },
      "execution_count": 33,
      "outputs": []
    },
    {
      "cell_type": "code",
      "source": [
        "justdial_url"
      ],
      "metadata": {
        "colab": {
          "base_uri": "https://localhost:8080/",
          "height": 35
        },
        "id": "BkL03Jg4fCxf",
        "outputId": "7cb7a766-e31d-4c73-94fb-14d223085fb6"
      },
      "execution_count": 34,
      "outputs": [
        {
          "output_type": "execute_result",
          "data": {
            "text/plain": [
              "'https://www.justdial.com/Gandhinagar-Gujarat/Accounting-Services/nct-10004639'"
            ],
            "application/vnd.google.colaboratory.intrinsic+json": {
              "type": "string"
            }
          },
          "metadata": {},
          "execution_count": 34
        }
      ]
    },
    {
      "cell_type": "code",
      "source": [
        "def get_data(link):\n",
        "    hdr = {'user-agent': 'Mozilla/5.0 (Linux; Android 6.0; Nexus 5 Build/MRA58N) AppleWebKit/537.36 (KHTML, like Gecko) Chrome/92.0.4515.107 Mobile Safari/537.36'}\n",
        "\n",
        "    req = requests.get(link,headers=hdr)\n",
        "    content = req.content\n",
        "  \n",
        "    return content\n",
        "\n",
        "urlclient = get_data(justdial_url)"
      ],
      "metadata": {
        "id": "pgVGoVkkob4M"
      },
      "execution_count": 40,
      "outputs": []
    },
    {
      "cell_type": "code",
      "source": [
        "# url_page = urlclient.read()\n",
        "# url_page"
      ],
      "metadata": {
        "id": "Monj_tJZn8tj"
      },
      "execution_count": 42,
      "outputs": []
    },
    {
      "cell_type": "code",
      "source": [
        "justdial_html = bs(urlclient,'html.parser')"
      ],
      "metadata": {
        "id": "6t24PoSQpxDu"
      },
      "execution_count": 43,
      "outputs": []
    },
    {
      "cell_type": "code",
      "source": [
        "https://www.justdial.com/Gandhinagar-gujarat/Bhadresh-Patel-Associates-Mota-Chiloda-Chiloda-Gandhi-Nagar/9999PXX79-XX79-221213163253-S6F3_BZDET?ncatid=10004639&area=&search=%20Accounting%20Services%20in%20Gandhinagar%20Gujarat&mncatname=Accounting%20Services&abd_btn=&abd_heading="
      ],
      "metadata": {
        "colab": {
          "base_uri": "https://localhost:8080/",
          "height": 148
        },
        "id": "zEIrXJdMrA5G",
        "outputId": "9d178d25-da85-4d82-f25b-977df8beb827"
      },
      "execution_count": 45,
      "outputs": [
        {
          "output_type": "error",
          "ename": "SyntaxError",
          "evalue": "ignored",
          "traceback": [
            "\u001b[0;36m  File \u001b[0;32m\"<ipython-input-45-0d576c9eaefc>\"\u001b[0;36m, line \u001b[0;32m1\u001b[0m\n\u001b[0;31m    https://www.justdial.com/Gandhinagar-gujarat/Bhadresh-Patel-Associates-Mota-Chiloda-Chiloda-Gandhi-Nagar/9999PXX79-XX79-221213163253-S6F3_BZDET?ncatid=10004639&area=&search=%20Accounting%20Services%20in%20Gandhinagar%20Gujarat&mncatname=Accounting%20Services&abd_btn=&abd_heading=\u001b[0m\n\u001b[0m                                                                                                                ^\u001b[0m\n\u001b[0;31mSyntaxError\u001b[0m\u001b[0;31m:\u001b[0m invalid decimal literal\n"
          ]
        }
      ]
    },
    {
      "cell_type": "code",
      "source": [
        "justdial_html.find()"
      ],
      "metadata": {
        "id": "u2d65479tLSD"
      },
      "execution_count": null,
      "outputs": []
    }
  ]
}